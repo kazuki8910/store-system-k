{
 "cells": [
  {
   "cell_type": "code",
   "execution_count": 1,
   "metadata": {},
   "outputs": [],
   "source": [
    "####################\n",
    "# \n",
    "# モジュール\n",
    "# \n",
    "####################\n",
    "\n",
    "# セレニウム関連\n",
    "from selenium import webdriver\n",
    "from selenium.webdriver.common.action_chains import ActionChains\n",
    "import chromedriver_binary\n",
    "\n",
    "# 基本モジュール\n",
    "import time\n",
    "from pathlib import Path\n",
    "import csv\n",
    "import os\n",
    "import datetime"
   ]
  },
  {
   "cell_type": "code",
   "execution_count": 2,
   "metadata": {},
   "outputs": [],
   "source": [
    "####################\n",
    "# \n",
    "# 変数\n",
    "# \n",
    "####################\n",
    "\n",
    "# 基幹システム関連\n",
    "url_kikan  = \"https://stlassh.com/admin/\" #URL\n",
    "\n",
    "mail_kikan = \"info@stlassh.com\" #メールアドレス\n",
    "pass_kikan = \"2sYsLpebQ3sx\"     #PASS\n",
    "input_mail_id_kikan = 'user_email'    #メールアドレスのインプットタグのID\n",
    "input_pass_id_kikan = 'user_password' #パスワードのインプットタグのID\n",
    "xpath_login_btn = '//*[@id=\"new_user\"]/div[3]/input' #ログインボタンのXPath\n",
    "\n",
    "xpath_reserve_elm = '/html/body/main/div/div[1]/a'    # 予約/問合せの要素\n",
    "xpath_csv_btn     ='/html/body/main/div/form/input[3]'# CSV出力ボタン\n",
    "\n",
    "file_path_kikan = \"data/reservations.csv\" # CSVの保存先パス\n",
    "\n",
    "# 日付関連\n",
    "this_time  = datetime.datetime.now() # 今の時間\n",
    "this_year  = this_time.year  # 今の年\n",
    "this_month = this_time.month # 今の月\n",
    "sheet_name_this_month = str(this_year) + \"年\" + str(this_month) + \"月\" # 今月のシート名"
   ]
  },
  {
   "cell_type": "code",
   "execution_count": 3,
   "metadata": {},
   "outputs": [],
   "source": [
    "####################\n",
    "# \n",
    "# 関数\n",
    "# \n",
    "####################\n",
    "\n",
    "# 要素に入力する関数\n",
    "def input_for_elm(elm, text):\n",
    "    elm.clear() #元から入っているテキスト削除\n",
    "    elm.send_keys(text) #指定のテキスト入力\n",
    "    time.sleep(1)\n",
    "\n",
    "# IDから要素に入力\n",
    "def input_text_by_id(id, text):\n",
    "    input_tag = driver.find_element_by_id(id) #要素取得\n",
    "    input_for_elm(input_tag, text) #要素に入力\n",
    "    \n",
    "# Xpathから要素に入力\n",
    "def input_text_by_xpath(xpath, text):\n",
    "    input_tag = driver.find_element_by_xpath(xpath) #要素取得\n",
    "    input_for_elm(input_tag, text) #要素に入力\n",
    "    \n",
    "\n",
    "# Xpathから要素クリック\n",
    "def click_by_xpath(xpath):\n",
    "    elm = driver.find_element_by_xpath(xpath) # 要素取得\n",
    "    elm.click()\n",
    "    time.sleep(1)\n",
    "\n",
    "\n",
    "# ファイル削除\n",
    "def delete_file(path):\n",
    "    if(os.path.isfile(path)):\n",
    "        os.remove(path)"
   ]
  },
  {
   "cell_type": "code",
   "execution_count": 4,
   "metadata": {},
   "outputs": [],
   "source": [
    "####################\n",
    "# \n",
    "# Sheet API設定\n",
    "# \n",
    "####################\n",
    "\n",
    "import gspread\n",
    "import json\n",
    "from oauth2client.service_account import ServiceAccountCredentials\n",
    "\n",
    "# スプシにアクセスする関数\n",
    "def connect_gspread(jsonf,key):\n",
    "    scope = ['https://spreadsheets.google.com/feeds','https://www.googleapis.com/auth/drive']\n",
    "    credentials = ServiceAccountCredentials.from_json_keyfile_name(jsonf, scope)\n",
    "    gc = gspread.authorize(credentials)\n",
    "    worksheet = gc.open_by_key(key)\n",
    "    return worksheet\n",
    "\n",
    "# 基幹シートにアクセス\n",
    "jsonf = \"config/sheet_api.json\"\n",
    "sheet_key_kikan = \"1rlaJptyRr-MkbLejSakF9zK1vdLoP6pMAhYcoj6p7dI\"\n",
    "ws_kikan = connect_gspread(jsonf,sheet_key_kikan) # 基幹シート\n",
    "\n",
    "\n",
    "####################\n",
    "# Sheet関連の変数\n",
    "####################\n",
    "sheets_kikan = ws_kikan.worksheets() # 基幹シートのワークシート一覧\n",
    "\n",
    "####################\n",
    "# Sheet関連の関数\n",
    "####################\n",
    "\n",
    "# シート名が存在するか検証\n",
    "def exsit_sheet(sheets, sheet_name):\n",
    "    for sheet in sheets:\n",
    "        if sheet.title == sheet_name:\n",
    "            return False\n",
    "    return True"
   ]
  },
  {
   "cell_type": "code",
   "execution_count": 5,
   "metadata": {},
   "outputs": [],
   "source": [
    "####################\n",
    "# \n",
    "# メイン動作\n",
    "# \n",
    "####################"
   ]
  },
  {
   "cell_type": "code",
   "execution_count": 6,
   "metadata": {},
   "outputs": [],
   "source": [
    "####################\n",
    "# クロームの起動設定\n",
    "####################\n",
    "\n",
    "# オプションを格納\n",
    "options = webdriver.ChromeOptions()\n",
    "\n",
    "# ヘッドレスモード\n",
    "options.add_argument('--headless')\n",
    "\n",
    "# ファイルの保存先指定\n",
    "dldir_name = 'data'  # 保存先フォルダ名\n",
    "dldir_path = Path(dldir_name)\n",
    "dldir_path.mkdir(exist_ok=True)  # 存在していてもOKとする（エラーで止めない）\n",
    "download_dir = str(dldir_path.resolve())  # 絶対パス\n",
    "options.add_experimental_option(\"prefs\", {\n",
    "    \"download.default_directory\": download_dir,\n",
    "    \"plugins.always_open_pdf_externally\": True\n",
    "})"
   ]
  },
  {
   "cell_type": "code",
   "execution_count": 7,
   "metadata": {},
   "outputs": [],
   "source": [
    "# クローム起動\n",
    "driver = webdriver.Chrome(options=options)\n",
    "driver.set_window_size(1280, 720)\n",
    "time.sleep(1)"
   ]
  },
  {
   "cell_type": "code",
   "execution_count": 8,
   "metadata": {},
   "outputs": [],
   "source": [
    "# 基幹システムログイン\n",
    "driver.get(url_kikan) # 基幹システムにアクセス\n",
    "time.sleep(1)\n",
    "\n",
    "input_text_by_id(input_mail_id_kikan, mail_kikan) #メールアドレス入力\n",
    "input_text_by_id(input_pass_id_kikan, pass_kikan) #パスワード入力\n",
    "click_by_xpath(xpath_login_btn) # ログインボタンクリック"
   ]
  },
  {
   "cell_type": "code",
   "execution_count": 9,
   "metadata": {},
   "outputs": [],
   "source": [
    "# CSVダウンロード\n",
    "click_by_xpath(xpath_reserve_elm) # 予約/問合せをクリック\n",
    "delete_file(file_path_kikan) # 既存のCSV削除\n",
    "click_by_xpath(xpath_csv_btn) # CSVダウンロードクリック\n",
    "time.sleep(5)\n",
    "driver.quit() # ブラウザ終了"
   ]
  },
  {
   "cell_type": "code",
   "execution_count": 10,
   "metadata": {},
   "outputs": [],
   "source": [
    "# シートが存在しなかったら今月のシート追加\n",
    "if(exsit_sheet(sheets_kikan, sheet_name_this_month)):\n",
    "    ws_kikan.add_worksheet(title=sheet_name_this_month, rows=1, cols=1)"
   ]
  },
  {
   "cell_type": "code",
   "execution_count": 11,
   "metadata": {},
   "outputs": [
    {
     "data": {
      "text/plain": [
       "{'spreadsheetId': '1rlaJptyRr-MkbLejSakF9zK1vdLoP6pMAhYcoj6p7dI',\n",
       " 'updatedRange': \"'2021年12月'!A1:Q3970\",\n",
       " 'updatedRows': 3970,\n",
       " 'updatedColumns': 17,\n",
       " 'updatedCells': 67490}"
      ]
     },
     "execution_count": 11,
     "metadata": {},
     "output_type": "execute_result"
    }
   ],
   "source": [
    "# CSVをシートにアップロード\n",
    "ws_kikan.values_update(\n",
    "    sheet_name_this_month + '!A1',\n",
    "    params={\n",
    "        'valueInputOption': 'USER_ENTERED'\n",
    "    },\n",
    "    body={'values': list(csv.reader(open(file_path_kikan)))}\n",
    ")"
   ]
  },
  {
   "cell_type": "code",
   "execution_count": null,
   "metadata": {},
   "outputs": [],
   "source": []
  }
 ],
 "metadata": {
  "kernelspec": {
   "display_name": "Python 3",
   "language": "python",
   "name": "python3"
  },
  "language_info": {
   "codemirror_mode": {
    "name": "ipython",
    "version": 3
   },
   "file_extension": ".py",
   "mimetype": "text/x-python",
   "name": "python",
   "nbconvert_exporter": "python",
   "pygments_lexer": "ipython3",
   "version": "3.8.5"
  }
 },
 "nbformat": 4,
 "nbformat_minor": 4
}
