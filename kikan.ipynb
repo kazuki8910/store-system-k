{
 "cells": [
  {
   "cell_type": "code",
   "execution_count": 1,
   "metadata": {},
   "outputs": [
    {
     "name": "stdout",
     "output_type": "stream",
     "text": [
      "モジュールのインポート完了\n"
     ]
    }
   ],
   "source": [
    "####################\n",
    "# \n",
    "# モジュール\n",
    "# \n",
    "####################\n",
    "\n",
    "# 基本モジュール\n",
    "import time\n",
    "import csv\n",
    "\n",
    "# 自作モジュール\n",
    "import func\n",
    "import conf\n",
    "\n",
    "print(\"モジュールのインポート完了\")"
   ]
  },
  {
   "cell_type": "code",
   "execution_count": 2,
   "metadata": {},
   "outputs": [
    {
     "name": "stdout",
     "output_type": "stream",
     "text": [
      "変数の定義完了\n"
     ]
    }
   ],
   "source": [
    "####################\n",
    "# \n",
    "# 変数\n",
    "# \n",
    "####################\n",
    "\n",
    "# 基幹システム関連\n",
    "url_kikan  = \"https://stlassh.com/admin/\" #URL\n",
    "\n",
    "mail_kikan = \"info@stlassh.com\" #メールアドレス\n",
    "pass_kikan = \"2sYsLpebQ3sx\"     #PASS\n",
    "input_mail_id_kikan = 'user_email'    #メールアドレスのインプットタグのID\n",
    "input_pass_id_kikan = 'user_password' #パスワードのインプットタグのID\n",
    "xpath_login_btn = '//*[@id=\"new_user\"]/div[3]/input' #ログインボタンのXPath\n",
    "\n",
    "xpath_reserve_elm = '/html/body/main/div/div[1]/a'    # 予約/問合せの要素\n",
    "xpath_csv_btn     ='/html/body/main/div/form/input[3]'# CSV出力ボタン\n",
    "\n",
    "file_path_kikan = \"data/reservations.csv\" # CSVの保存先パス\n",
    "\n",
    "print(\"変数の定義完了\")"
   ]
  },
  {
   "cell_type": "code",
   "execution_count": 3,
   "metadata": {},
   "outputs": [
    {
     "name": "stdout",
     "output_type": "stream",
     "text": [
      "シートapiの設定完了\n"
     ]
    }
   ],
   "source": [
    "####################\n",
    "# \n",
    "# 基幹シートにアクセス\n",
    "# \n",
    "####################\n",
    "\n",
    "ws_kikan = func.connect_gspread(conf.sheet_key_kikan) # 基幹シート\n",
    "sheets_kikan = ws_kikan.worksheets() # 基幹シートのワークシート一覧\n",
    "\n",
    "print(\"シートapiの設定完了\")"
   ]
  },
  {
   "cell_type": "code",
   "execution_count": 4,
   "metadata": {},
   "outputs": [
    {
     "name": "stdout",
     "output_type": "stream",
     "text": [
      "クローム起動\n",
      "基幹システムログイン\n",
      "csvダウンロード完了\n",
      "ブラウザ閉じる\n",
      "CSVアップロード\n",
      "終了\n"
     ]
    }
   ],
   "source": [
    "####################\n",
    "# \n",
    "# メイン動作\n",
    "# \n",
    "####################\n",
    "try:\n",
    "    # クローム起動\n",
    "    driver = func.start_chrome()\n",
    "\n",
    "    # 基幹システムログイン\n",
    "    driver.get(url_kikan) # 基幹システムにアクセス\n",
    "    time.sleep(1)\n",
    "\n",
    "    func.input_text_by_id(driver, input_mail_id_kikan, mail_kikan) #メールアドレス入力\n",
    "    func.input_text_by_id(driver, input_pass_id_kikan, pass_kikan) #パスワード入力\n",
    "    func.click_by_xpath(driver, xpath_login_btn) # ログインボタンクリック\n",
    "    print(\"基幹システムログイン\")\n",
    "\n",
    "    # CSVダウンロード\n",
    "    func.click_by_xpath(driver, xpath_reserve_elm) # 予約/問合せをクリック\n",
    "    func.delete_file(file_path_kikan) # 既存のCSV削除\n",
    "    func.click_by_xpath(driver, xpath_csv_btn) # CSVダウンロードクリック\n",
    "    time.sleep(5)\n",
    "    print(\"csvダウンロード完了\")\n",
    "\n",
    "finally:\n",
    "    driver.quit() # ブラウザ終了\n",
    "    print(\"ブラウザ閉じる\")\n",
    "\n",
    "\n",
    "# シートが存在しなかったら今月のシート追加\n",
    "if(func.exsit_sheet(sheets_kikan, conf.sheet_name_this_month)):\n",
    "    ws_kikan.add_worksheet(title=conf.sheet_name_this_month, rows=1, cols=1)\n",
    "    print(\"今月のシート追加\")\n",
    "\n",
    "\n",
    "# CSVをシートにアップロード\n",
    "func.upload_csv(ws_kikan, conf.sheet_name_this_month+'!A1', file_path_kikan)\n",
    "\n",
    "print(\"CSVアップロード\")\n",
    "print(\"終了\")"
   ]
  },
  {
   "cell_type": "code",
   "execution_count": null,
   "metadata": {},
   "outputs": [],
   "source": []
  },
  {
   "cell_type": "code",
   "execution_count": null,
   "metadata": {},
   "outputs": [],
   "source": []
  }
 ],
 "metadata": {
  "kernelspec": {
   "display_name": "Python 3",
   "language": "python",
   "name": "python3"
  },
  "language_info": {
   "codemirror_mode": {
    "name": "ipython",
    "version": 3
   },
   "file_extension": ".py",
   "mimetype": "text/x-python",
   "name": "python",
   "nbconvert_exporter": "python",
   "pygments_lexer": "ipython3",
   "version": "3.8.5"
  }
 },
 "nbformat": 4,
 "nbformat_minor": 4
}
