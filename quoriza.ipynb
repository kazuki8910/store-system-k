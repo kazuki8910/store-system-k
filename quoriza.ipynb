{
 "cells": [
  {
   "cell_type": "code",
   "execution_count": 1,
   "metadata": {},
   "outputs": [],
   "source": [
    "# 成果確認シート取り込み"
   ]
  },
  {
   "cell_type": "code",
   "execution_count": 2,
   "metadata": {},
   "outputs": [
    {
     "name": "stdout",
     "output_type": "stream",
     "text": [
      "モジュールのインポート完了\n"
     ]
    }
   ],
   "source": [
    "####################\n",
    "# \n",
    "# モジュール\n",
    "# \n",
    "####################\n",
    "\n",
    "# 一般\n",
    "import time\n",
    "import glob\n",
    "\n",
    "# 自作\n",
    "import func\n",
    "import conf\n",
    "\n",
    "print(\"モジュールのインポート完了\")"
   ]
  },
  {
   "cell_type": "code",
   "execution_count": 3,
   "metadata": {},
   "outputs": [
    {
     "name": "stdout",
     "output_type": "stream",
     "text": [
      "変数の定義完了\n"
     ]
    }
   ],
   "source": [
    "####################\n",
    "# \n",
    "# 変数\n",
    "# \n",
    "####################\n",
    "\n",
    "# クオリザ関連\n",
    "url_quoriza  = \"https://quoriza.net/client/login\" # クオリザのURL\n",
    "id_quoriza   = \"RvKVjPRn\" # ID\n",
    "pass_quoriza = \"jbqoDbrn\" # パスワード\n",
    "\n",
    "print(\"変数の定義完了\")"
   ]
  },
  {
   "cell_type": "code",
   "execution_count": 4,
   "metadata": {},
   "outputs": [
    {
     "name": "stdout",
     "output_type": "stream",
     "text": [
      "クローム起動\n",
      "クオリザのログイン成功\n",
      "ダウンロード完了\n",
      "ブラウザ閉じる\n"
     ]
    }
   ],
   "source": [
    "####################\n",
    "# \n",
    "# クオリザにログイン\n",
    "# \n",
    "####################\n",
    "\n",
    "try:\n",
    "    \n",
    "    # クローム起動\n",
    "    driver = func.start_chrome(False)\n",
    "\n",
    "    # ログイン画面にアクセス\n",
    "    driver.get(url_quoriza)\n",
    "    time.sleep(1)\n",
    "\n",
    "    # ログイン操作\n",
    "    xpath_id = \"/html/body/div[2]/form/div[1]/input\"\n",
    "    func.input_text_by_xpath(driver, xpath_id, id_quoriza) # ID入力\n",
    "    xpath_pass = \"/html/body/div[2]/form/div[2]/input\"\n",
    "    func.input_text_by_xpath(driver, xpath_pass, pass_quoriza) # パスワード入力\n",
    "    xpath_login_btn = \"/html/body/div[2]/form/div[3]/input\"\n",
    "    func.click_by_xpath(driver, xpath_login_btn, 7) # ボタンクリック\n",
    "\n",
    "    print(\"クオリザのログイン成功\")\n",
    "\n",
    "    \n",
    "####################\n",
    "# \n",
    "# データをダウンロード\n",
    "# \n",
    "####################\n",
    "\n",
    "    # 「成果コンバージョン」をクリック\n",
    "    xpath_hov_menu = \"/html/body/div[1]/div[2]/nav/div/div/ul/li[3]\"\n",
    "    func.click_by_xpath(driver, xpath_hov_menu)\n",
    "\n",
    "    # 「成果コンバージョン一覧」をクリック\n",
    "    xpath_cv_list = \"/html/body/div[1]/div[2]/nav/div/div/ul/li[3]/ul/li[1]/a\"\n",
    "    func.click_by_xpath(driver, xpath_cv_list, 3)\n",
    "\n",
    "    # 「当月」ボタンをクリック\n",
    "    xpath_this_month_btn = \"/html/body/div[1]/div[3]/div/div[2]/div/form/div/div[2]/div/div/div[2]/a[1]\"\n",
    "    func.click_by_xpath(driver, xpath_this_month_btn)\n",
    "\n",
    "    # ダウンロードボタンをクリック\n",
    "    xpath_download_btn = \"/html/body/div[1]/div[3]/div/div[2]/div/form/div/div[8]/div/button[2]\"\n",
    "    func.click_by_xpath(driver, xpath_download_btn, 5)\n",
    "\n",
    "    print(\"ダウンロード完了\")\n",
    "\n",
    "\n",
    "finally:\n",
    "    driver.quit() # ブラウザ終了\n",
    "    print(\"ブラウザ閉じる\")"
   ]
  },
  {
   "cell_type": "code",
   "execution_count": 5,
   "metadata": {},
   "outputs": [
    {
     "name": "stdout",
     "output_type": "stream",
     "text": [
      "分析シートはすでに存在します\n",
      "CSVアップロード\n",
      "終了\n"
     ]
    }
   ],
   "source": [
    "####################\n",
    "# \n",
    "# シートにデータ反映\n",
    "# \n",
    "####################\n",
    "\n",
    "# 分析シートキー取得\n",
    "sheet_key_ana = func.get_ana_key()\n",
    "\n",
    "# 分析シートにアクセス\n",
    "wb_ana = func.connect_gspread(sheet_key_ana) # 分析\n",
    "\n",
    "# クオリザシートが存在しなかったら今月のシート追加\n",
    "sheets_ana = wb_ana.worksheets() # クオリザシートのワークシート一覧\n",
    "sheet_name = \"クオリザ\"\n",
    "if(func.exsit_sheet(sheets_ana, sheet_name)):\n",
    "    wb_ana.add_worksheet(title=sheet_name, rows=1, cols=1)\n",
    "    print(\"クオリザシート追加\")\n",
    "\n",
    "# ダウンロードしたファイルパス取得\n",
    "file_path = glob.glob(\"data/*\")[0]\n",
    "\n",
    "# CSVをシートにアップロード\n",
    "func.upload_csv(wb_ana, sheet_name+'!A1', file_path)\n",
    "print(\"CSVアップロード\")\n",
    "\n",
    "# 「data」ディレクトリのデータ削除\n",
    "func.delete_data_files()\n",
    "\n",
    "print(\"終了\")"
   ]
  },
  {
   "cell_type": "code",
   "execution_count": null,
   "metadata": {},
   "outputs": [],
   "source": []
  }
 ],
 "metadata": {
  "kernelspec": {
   "display_name": "common",
   "language": "python",
   "name": "common"
  },
  "language_info": {
   "codemirror_mode": {
    "name": "ipython",
    "version": 3
   },
   "file_extension": ".py",
   "mimetype": "text/x-python",
   "name": "python",
   "nbconvert_exporter": "python",
   "pygments_lexer": "ipython3",
   "version": "3.9.7"
  }
 },
 "nbformat": 4,
 "nbformat_minor": 4
}
