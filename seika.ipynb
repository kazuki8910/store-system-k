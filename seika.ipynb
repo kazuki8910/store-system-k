{
 "cells": [
  {
   "cell_type": "code",
   "execution_count": 1,
   "id": "3f9d1def-e841-468d-9c3b-46fcc687bf7e",
   "metadata": {},
   "outputs": [],
   "source": [
    "# 成果確認シートの内容取得"
   ]
  },
  {
   "cell_type": "code",
   "execution_count": 2,
   "id": "ecfdad2a-aa16-4ed4-bdf0-f1d538a2f0ca",
   "metadata": {},
   "outputs": [
    {
     "name": "stdout",
     "output_type": "stream",
     "text": [
      "モジュールインポート\n"
     ]
    }
   ],
   "source": [
    "####################\n",
    "# \n",
    "# モジュール\n",
    "# \n",
    "####################\n",
    "\n",
    "# 一般\n",
    "import datetime as dt\n",
    "import pandas as pd\n",
    "\n",
    "# スプシ関連\n",
    "from gspread_dataframe import set_with_dataframe\n",
    "\n",
    "# 自作\n",
    "import conf\n",
    "import func\n",
    "\n",
    "print(\"モジュールインポート\")"
   ]
  },
  {
   "cell_type": "code",
   "execution_count": 3,
   "id": "00fe3ad6-9ce4-4539-9fd2-70b5d0b79f31",
   "metadata": {},
   "outputs": [
    {
     "name": "stdout",
     "output_type": "stream",
     "text": [
      "変数定義完了\n"
     ]
    }
   ],
   "source": [
    "####################\n",
    "# \n",
    "# 変数\n",
    "# \n",
    "####################\n",
    "\n",
    "# 今月の成果シート名\n",
    "today = dt.date.today()\n",
    "this_year  = str(today.year)\n",
    "this_month = str(today.month)\n",
    "sheet_name_seika = this_year + \"年\" + this_month + \"月成果\" \n",
    "\n",
    "# 月末月初取得\n",
    "beginning_day = dt.datetime.combine(today.replace(day=1), dt.time())             # 月初の日付\n",
    "end_day       = dt.datetime(today.year, today.month+1, 1) - dt.timedelta(days=1) # 月末の日付\n",
    "\n",
    "# 成果確認シートの情報\n",
    "sheets_info = [\n",
    "    {\n",
    "        \"name\":\"ブリーチ\",\n",
    "        \"key\" :\"1tYvW0ntpbCVOpY2UGcqdQD_DQhA7HesfKkg0NPAp65g\"\n",
    "    },\n",
    "    {\n",
    "        \"name\":\"フォースリー\",\n",
    "        \"key\" :\"1O3JayPUeW91PaEqcjX9Zm3_Jg2Ltzn94UYuqya5Il68\"\n",
    "    },\n",
    "    {\n",
    "        \"name\":\"レントラ\",\n",
    "        \"key\" :\"1jlgzK2U__YYCZO6wk_klEAkXbQbYXWuxhxE-AZTWkCQ\"\n",
    "    },\n",
    "    {\n",
    "        \"name\":\"サルクルー\",\n",
    "        \"key\" :\"1cbrrpc2GDTEGn2BauduPaC6-NRmAVJX5YMszz4CSCKQ\"\n",
    "    },\n",
    "    {\n",
    "        \"name\":\"セレス\",\n",
    "        \"key\" :\"1LNkA6RZ-__kvcwe3qhOg604ITnCj0W6DJxZqWQzRJOc\"\n",
    "    },\n",
    "    {\n",
    "        \"name\":\"FA\",\n",
    "        \"key\" :\"1qxvzPJn3c84VCfWrrKLdO03wc6fhauKdTjEqqYhyUNU\"\n",
    "    }\n",
    "]\n",
    "\n",
    "print(\"変数定義完了\")"
   ]
  },
  {
   "cell_type": "code",
   "execution_count": 4,
   "id": "c76e41af-2375-4e4b-9897-bba1b3157c7b",
   "metadata": {},
   "outputs": [
    {
     "name": "stdout",
     "output_type": "stream",
     "text": [
      "ブリーチ:0\n",
      "フォースリー:0\n",
      "レントラ:0\n",
      "サルクルー:0\n",
      "セレス:0\n",
      "FA:0\n",
      "データ出力完了\n"
     ]
    }
   ],
   "source": [
    "####################\n",
    "# \n",
    "# 成果シートの情報取得\n",
    "# \n",
    "####################\n",
    "# データを格納するDataframe\n",
    "df_seika_sum = pd.DataFrame()\n",
    "\n",
    "# 成果を抽出するループ\n",
    "for info in sheets_info:\n",
    "    key  = info[\"key\"]\n",
    "    name = info[\"name\"]\n",
    "\n",
    "    # 成果シートにアクセス\n",
    "    wb_seika = func.connect_gspread(key)\n",
    "    ws_seika = wb_seika.worksheet(sheet_name_seika)\n",
    "\n",
    "    # 成果シートのデータ取得\n",
    "    df_seika = pd.DataFrame(ws_seika.get_all_values()) # 元データ取得\n",
    "    df_seika = df_seika.drop(index=df_seika.index[[0,1]]) # 先頭行削除\n",
    "    df_seika = df_seika.reindex(columns=[9,1,2,4,5,6]) # 必要列抽出\n",
    "\n",
    "    # カラム名つける\n",
    "    df_seika = df_seika.rename(columns={\n",
    "        9:\"成果識別番号\",\n",
    "        1:\"成果発生日時\",\n",
    "        2:\"獲得方法\",\n",
    "        4:\"メディア名\",\n",
    "        5:\"LP名\",\n",
    "        6:\"グロス(税込)\"\n",
    "    })\n",
    "\n",
    "    # 日付と時間に列を分ける（レントラだけ仕様が違う）\n",
    "    ach_day  = df_seika['成果発生日時'].str.extract('(\\d+[/-]\\d+[/-]+\\d+)', expand=True) # 成果発生日\n",
    "    ach_day  = ach_day.apply(lambda x: x.str.replace('-','/'))                           # \"-\"を\"/\"に変換\n",
    "    ach_time = df_seika['成果発生日時'].str.extract('(\\d+:\\d:*\\d*)', expand=True)        # 成果発生時間\n",
    "\n",
    "    # Macの場合\n",
    "    df_seika.insert(1,\"成果発生日\",ach_day[0])    # 成果発生日を追加\n",
    "    df_seika.insert(2,\"成果発生時間\",ach_time[0]) # 成果発生時間を追加\n",
    "\n",
    "    # Windowsの場合\n",
    "    # df_seika.insert(1,\"成果発生日\",ach_day)    # 成果発生日を追加\n",
    "    # df_seika.insert(2,\"成果発生時間\",ach_time) # 成果発生時間を追加\n",
    "\n",
    "    # 成果発生日時削除\n",
    "    df_seika = df_seika.drop(\"成果発生日時\",axis=1) \n",
    "\n",
    "    # ASP名追加\n",
    "    df_seika.insert(5,\"ASP\",name) \n",
    "\n",
    "    # 該当しない日付を削除\n",
    "    df_seika['成果発生日'] = pd.to_datetime(df_seika['成果発生日'], format='%Y/%m/%d') # 成果発生日の列を日付型に変換\n",
    "    df_seika = df_seika[(df_seika['成果発生日'] >= beginning_day) & (df_seika['成果発生日'] <= end_day)] # 該当する日付を抽出\n",
    "    df_seika.reset_index(drop=True, inplace=True) # 行番号振り直し\n",
    "\n",
    "    # データ出力\n",
    "    df_seika_sum = pd.concat([df_seika_sum,df_seika])\n",
    "    print(name+\":\"+str(len(df_seika)))\n",
    "    \n",
    "print(\"データ出力完了\")"
   ]
  },
  {
   "cell_type": "code",
   "execution_count": 5,
   "id": "a5c93622-14a4-4088-8b59-efb91353540c",
   "metadata": {},
   "outputs": [
    {
     "name": "stdout",
     "output_type": "stream",
     "text": [
      "分析シートはすでに存在します\n",
      "成果シート追加\n",
      "成果シートへの反映完了\n"
     ]
    }
   ],
   "source": [
    "########################\n",
    "# \n",
    "# シートに反映\n",
    "# \n",
    "########################\n",
    "\n",
    "# 分析シートキー取得\n",
    "sheet_key_ana = func.get_ana_key()\n",
    "\n",
    "# 分析シートにアクセス\n",
    "wb_ana = func.connect_gspread(sheet_key_ana)\n",
    "\n",
    "# 集客表シートが存在しなかったら今月のシート追加\n",
    "sheets_ana = wb_ana.worksheets() # 集客表シートのワークシート一覧\n",
    "sheet_name = \"成果\"\n",
    "if(func.exsit_sheet(sheets_ana, sheet_name)):\n",
    "    wb_ana.add_worksheet(title=sheet_name, rows=1, cols=1)\n",
    "    print(\"成果シート追加\")\n",
    "\n",
    "# 集客表シートにアクセス\n",
    "ws = wb_ana.worksheet(sheet_name)\n",
    "\n",
    "# データフレームをスプシに反映\n",
    "set_with_dataframe(ws, df_seika_sum)\n",
    "\n",
    "print(\"成果シートへの反映完了\")"
   ]
  },
  {
   "cell_type": "code",
   "execution_count": null,
   "id": "3d852f13-322a-4bb1-a2aa-b679a4b8da8d",
   "metadata": {},
   "outputs": [],
   "source": []
  }
 ],
 "metadata": {
  "kernelspec": {
   "display_name": "Python 3 (ipykernel)",
   "language": "python",
   "name": "python3"
  },
  "language_info": {
   "codemirror_mode": {
    "name": "ipython",
    "version": 3
   },
   "file_extension": ".py",
   "mimetype": "text/x-python",
   "name": "python",
   "nbconvert_exporter": "python",
   "pygments_lexer": "ipython3",
   "version": "3.9.7"
  }
 },
 "nbformat": 4,
 "nbformat_minor": 5
}
