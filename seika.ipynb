{
 "cells": [
  {
   "cell_type": "code",
   "execution_count": 1,
   "metadata": {},
   "outputs": [],
   "source": [
    "# 成果確認シート取り込み"
   ]
  },
  {
   "cell_type": "code",
   "execution_count": 2,
   "metadata": {},
   "outputs": [],
   "source": [
    "####################\n",
    "# \n",
    "# モジュール\n",
    "# \n",
    "####################\n",
    "\n",
    "# 自作モジュール\n",
    "import func\n",
    "import conf\n",
    "\n",
    "print(\"モジュールのインポート完了\")"
   ]
  },
  {
   "cell_type": "code",
   "execution_count": 3,
   "metadata": {},
   "outputs": [],
   "source": [
    "####################\n",
    "# \n",
    "# 変数\n",
    "# \n",
    "####################\n",
    "\n",
    "# クオリザ関連\n",
    "url_quoriza  = \"https://quoriza.net/client/login\" # クオリザのURL\n",
    "id_quoriza   = \"RvKVjPRn\" # ID\n",
    "pass_quoriza = \"jbqoDbrn\" # パスワード\n",
    "\n",
    "print(\"変数の定義完了\")"
   ]
  },
  {
   "cell_type": "code",
   "execution_count": 4,
   "metadata": {},
   "outputs": [
    {
     "name": "stdout",
     "output_type": "stream",
     "text": [
      "クローム起動\n"
     ]
    }
   ],
   "source": [
    "####################\n",
    "# \n",
    "# クオリザにログイン\n",
    "# \n",
    "####################\n",
    "\n",
    "# ログイン画面にアクセス\n",
    "driver = func.start_chrome(False) # クローム起動\n",
    "driver.get(url_quoriza) # ログイン画面にアクセス\n",
    "\n",
    "# ID入力\n",
    "xpath_id = \"/html/body/div[2]/form/div[1]/input\"\n",
    "func.input_text_by_xpath(driver, xpath_id, id_quoriza)\n",
    "\n",
    "# パスワード入力\n",
    "xpath_pass = \"/html/body/div[2]/form/div[2]/input\"\n",
    "func.input_text_by_xpath(driver, xpath_pass, pass_quoriza)\n",
    "\n",
    "# ログインボタンクリック\n",
    "xpath_login_btn = \"/html/body/div[2]/form/div[3]/input\"\n",
    "func.click_by_xpath(driver, xpath_login_btn)\n",
    "\n",
    "pritn(\"クオリザのログイン成功\")"
   ]
  },
  {
   "cell_type": "code",
   "execution_count": 5,
   "metadata": {},
   "outputs": [],
   "source": [
    "####################\n",
    "# \n",
    "# データをダウンロード\n",
    "# \n",
    "####################"
   ]
  },
  {
   "cell_type": "code",
   "execution_count": 13,
   "metadata": {},
   "outputs": [],
   "source": [
    "# 「成果コンバージョン」をクリック\n",
    "xpath_hov_menu = \"/html/body/div[1]/div[2]/nav/div/div/ul/li[3]\"\n",
    "func.click_by_xpath(driver, xpath_hov_menu)"
   ]
  },
  {
   "cell_type": "code",
   "execution_count": 11,
   "metadata": {},
   "outputs": [],
   "source": [
    "# 「成果コンバージョン一覧」をクリック\n",
    "xpath_cv_list = \"/html/body/div[1]/div[2]/nav/div/div/ul/li[3]/ul/li[1]/a\"\n",
    "func.click_by_xpath(driver, xpath_cv_list, 2)"
   ]
  },
  {
   "cell_type": "code",
   "execution_count": 16,
   "metadata": {},
   "outputs": [],
   "source": [
    "# 「当月」ボタンをクリック\n",
    "xpath_this_month_btn = \"/html/body/div[1]/div[3]/div/div[2]/div/form/div/div[2]/div/div/div[2]/a[1]\"\n",
    "func.click_by_xpath(driver, xpath_this_month_btn)"
   ]
  },
  {
   "cell_type": "code",
   "execution_count": 17,
   "metadata": {},
   "outputs": [],
   "source": [
    "# ダウンロードボタンをクリック\n",
    "xpath_download_btn = \"/html/body/div[1]/div[3]/div/div[2]/div/form/div/div[8]/div/button[2]\"\n",
    "func.click_by_xpath(driver, xpath_download_btn, 5)"
   ]
  },
  {
   "cell_type": "code",
   "execution_count": 23,
   "metadata": {},
   "outputs": [],
   "source": [
    "####\n",
    "# ダウンロードしたファイルパス取得\n",
    "import glob\n",
    "\n",
    "file_path = glob.glob(\"data/*\")[0]"
   ]
  },
  {
   "cell_type": "code",
   "execution_count": null,
   "metadata": {},
   "outputs": [],
   "source": [
    "# 成果シートにアクセス"
   ]
  },
  {
   "cell_type": "code",
   "execution_count": null,
   "metadata": {},
   "outputs": [],
   "source": []
  },
  {
   "cell_type": "code",
   "execution_count": null,
   "metadata": {},
   "outputs": [],
   "source": []
  },
  {
   "cell_type": "code",
   "execution_count": 14,
   "metadata": {},
   "outputs": [
    {
     "data": {
      "text/plain": [
       "<module 'func' from 'C:\\\\Users\\\\kumag\\\\OneDrive\\\\デスクトップ\\\\store_system\\\\func.py'>"
      ]
     },
     "execution_count": 14,
     "metadata": {},
     "output_type": "execute_result"
    }
   ],
   "source": [
    "import importlib\n",
    "importlib.reload(func)"
   ]
  },
  {
   "cell_type": "code",
   "execution_count": null,
   "metadata": {},
   "outputs": [],
   "source": []
  },
  {
   "cell_type": "code",
   "execution_count": null,
   "metadata": {},
   "outputs": [],
   "source": []
  },
  {
   "cell_type": "code",
   "execution_count": null,
   "metadata": {},
   "outputs": [],
   "source": []
  },
  {
   "cell_type": "code",
   "execution_count": null,
   "metadata": {},
   "outputs": [],
   "source": []
  },
  {
   "cell_type": "code",
   "execution_count": null,
   "metadata": {},
   "outputs": [],
   "source": []
  },
  {
   "cell_type": "code",
   "execution_count": null,
   "metadata": {},
   "outputs": [],
   "source": []
  },
  {
   "cell_type": "code",
   "execution_count": null,
   "metadata": {},
   "outputs": [],
   "source": []
  },
  {
   "cell_type": "code",
   "execution_count": null,
   "metadata": {},
   "outputs": [],
   "source": []
  },
  {
   "cell_type": "code",
   "execution_count": null,
   "metadata": {},
   "outputs": [],
   "source": []
  }
 ],
 "metadata": {
  "kernelspec": {
   "display_name": "Python 3",
   "language": "python",
   "name": "python3"
  },
  "language_info": {
   "codemirror_mode": {
    "name": "ipython",
    "version": 3
   },
   "file_extension": ".py",
   "mimetype": "text/x-python",
   "name": "python",
   "nbconvert_exporter": "python",
   "pygments_lexer": "ipython3",
   "version": "3.8.5"
  }
 },
 "nbformat": 4,
 "nbformat_minor": 4
}
