{
 "cells": [
  {
   "cell_type": "code",
   "execution_count": 1,
   "metadata": {},
   "outputs": [],
   "source": [
    "# 流れ\n",
    "# ・成果シートのデータ全取得\n",
    "# ・必要なデータ列に絞る\n",
    "# ・要らない行削る\n",
    "# ・ASPカラム付け加える\n",
    "# ・各ASPで上記行い合算する\n",
    "# ・日付でソート\n",
    "# ・今月のシートに反映"
   ]
  },
  {
   "cell_type": "code",
   "execution_count": 2,
   "metadata": {},
   "outputs": [],
   "source": [
    "# 成果確認シートの内容取得"
   ]
  },
  {
   "cell_type": "code",
   "execution_count": 3,
   "metadata": {},
   "outputs": [
    {
     "name": "stdout",
     "output_type": "stream",
     "text": [
      "モジュールインポート\n"
     ]
    }
   ],
   "source": [
    "####################\n",
    "# \n",
    "# モジュール\n",
    "# \n",
    "####################\n",
    "\n",
    "# 一般\n",
    "import datetime as dt\n",
    "import pandas as pd\n",
    "\n",
    "# スプシ関連\n",
    "from gspread_dataframe import set_with_dataframe\n",
    "\n",
    "# 自作\n",
    "import conf\n",
    "import func\n",
    "\n",
    "print(\"モジュールインポート\")"
   ]
  },
  {
   "cell_type": "code",
   "execution_count": 4,
   "metadata": {},
   "outputs": [
    {
     "name": "stdout",
     "output_type": "stream",
     "text": [
      "変数定義完了\n"
     ]
    }
   ],
   "source": [
    "####################\n",
    "# \n",
    "# 変数\n",
    "# \n",
    "####################\n",
    "\n",
    "# 今月の成果シート名\n",
    "today = dt.date.today()\n",
    "this_year  = str(today.year)\n",
    "this_month = str(today.month)\n",
    "sheet_name_seika = this_year + \"年\" + this_month + \"月成果\" \n",
    "\n",
    "print(\"変数定義完了\")"
   ]
  },
  {
   "cell_type": "code",
   "execution_count": 5,
   "metadata": {},
   "outputs": [],
   "source": [
    "####################\n",
    "# \n",
    "# 成果シートの情報取得\n",
    "# \n",
    "####################\n",
    "\n",
    "# 成果シートにアクセス\n",
    "key_seika = \"1tYvW0ntpbCVOpY2UGcqdQD_DQhA7HesfKkg0NPAp65g\" # ブリーチ\n",
    "wb_seika = func.connect_gspread(key_seika)\n",
    "ws_seika = wb_seika.worksheet(sheet_name_seika)\n",
    "\n",
    "# 成果シートのデータ取得\n",
    "df_seika = pd.DataFrame(ws_seika.get_all_values()) # 元データ取得\n",
    "df_seika = df_seika.drop(index=df_seika.index[[0,1]]) # 先頭行削除\n",
    "df_seika = df_seika.reindex(columns=[9,1,2,4,5,6]) # 必要列抽出\n",
    "\n",
    "# カラム名つける\n",
    "df_seika = df_seika.rename(columns={\n",
    "    9:\"成果識別番号\",\n",
    "    1:\"成果発生日時\",\n",
    "    2:\"獲得方法\",\n",
    "    4:\"メディア名\",\n",
    "    5:\"LP名\",\n",
    "    6:\"グロス(税込)\"\n",
    "})\n",
    "\n",
    "# 日付と時間に列を分ける（レントラだけ仕様が違う）\n",
    "ach_day  = df_seika['成果発生日時'].str.extract('(\\d+[/-]\\d+[/-]+\\d+)', expand=True) # 成果発生日\n",
    "ach_day  = ach_day.apply(lambda x: x.str.replace('-','/'))                           # \"-\"を\"/\"に変換\n",
    "ach_time = df_seika['成果発生日時'].str.extract('(\\d+:\\d:*\\d*)', expand=True)        # 成果発生時間\n",
    "\n",
    "# Macの場合\n",
    "df_seika.insert(1,\"成果発生日\",ach_day[0])    # 成果発生日を追加\n",
    "df_seika.insert(2,\"成果発生時間\",ach_time[0]) # 成果発生時間を追加\n",
    "\n",
    "# Windowsの場合\n",
    "# df_seika.insert(1,\"成果発生日\",ach_day)    # 成果発生日を追加\n",
    "# df_seika.insert(2,\"成果発生時間\",ach_time) # 成果発生時間を追加\n",
    "\n",
    "# 成果発生日時削除\n",
    "df_seika = df_seika.drop(\"成果発生日時\",axis=1) \n",
    "\n",
    "# ASP名追加\n",
    "df_seika.insert(5,\"ASP\",\"ブリーチ\") "
   ]
  },
  {
   "cell_type": "code",
   "execution_count": 6,
   "metadata": {},
   "outputs": [],
   "source": [
    "# 該当しない日付を削除\n",
    "df_seika['成果発生日'] = pd.to_datetime(df_seika['成果発生日'], format='%Y/%m/%d') # 成果発生日の列を日付型に変換\n",
    "df_seika = df_seika[(df_seika['成果発生日'] >= dt.datetime(2022,1,1)) & (df_seika['成果発生日'] <= dt.datetime(2022,1,31))] # 該当する日付を抽出\n",
    "df_seika.reset_index(drop=True, inplace=True) # 行番号振り直し"
   ]
  },
  {
   "cell_type": "code",
   "execution_count": 28,
   "metadata": {},
   "outputs": [],
   "source": []
  },
  {
   "cell_type": "code",
   "execution_count": null,
   "metadata": {},
   "outputs": [],
   "source": []
  },
  {
   "cell_type": "code",
   "execution_count": null,
   "metadata": {},
   "outputs": [],
   "source": []
  },
  {
   "cell_type": "code",
   "execution_count": null,
   "metadata": {},
   "outputs": [],
   "source": []
  },
  {
   "cell_type": "code",
   "execution_count": null,
   "metadata": {},
   "outputs": [],
   "source": []
  }
 ],
 "metadata": {
  "kernelspec": {
   "display_name": "Python 3 (ipykernel)",
   "language": "python",
   "name": "python3"
  },
  "language_info": {
   "codemirror_mode": {
    "name": "ipython",
    "version": 3
   },
   "file_extension": ".py",
   "mimetype": "text/x-python",
   "name": "python",
   "nbconvert_exporter": "python",
   "pygments_lexer": "ipython3",
   "version": "3.9.7"
  }
 },
 "nbformat": 4,
 "nbformat_minor": 4
}
