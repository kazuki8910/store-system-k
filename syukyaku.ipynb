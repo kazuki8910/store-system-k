{
 "cells": [
  {
   "cell_type": "code",
   "execution_count": 1,
   "metadata": {},
   "outputs": [],
   "source": [
    "# 集客表のデータ取得"
   ]
  },
  {
   "cell_type": "code",
   "execution_count": 2,
   "metadata": {},
   "outputs": [
    {
     "name": "stdout",
     "output_type": "stream",
     "text": [
      "モジュールのインポート完了\n"
     ]
    }
   ],
   "source": [
    "########################\n",
    "# \n",
    "# モジュール\n",
    "# \n",
    "########################\n",
    "\n",
    "# 一般モジュール\n",
    "import pandas as pd\n",
    "\n",
    "# スプシ関連\n",
    "from gspread_dataframe import set_with_dataframe\n",
    "\n",
    "# 自作モジュール\n",
    "import func\n",
    "import conf\n",
    "\n",
    "print(\"モジュールのインポート完了\")"
   ]
  },
  {
   "cell_type": "code",
   "execution_count": 3,
   "metadata": {},
   "outputs": [
    {
     "name": "stdout",
     "output_type": "stream",
     "text": [
      "顧客データの整形完了\n"
     ]
    }
   ],
   "source": [
    "########################\n",
    "# \n",
    "# 集客表元データ整形\n",
    "# \n",
    "########################\n",
    "\n",
    "# 集客表元データのシートにアクセス\n",
    "wb_origin = func.connect_gspread(conf.sheet_key_03)       # 03シートにアクセス\n",
    "ws_origin = wb_origin.worksheet(conf.sheet_name_syukyaku) # 今月の集客表取得\n",
    "\n",
    "# 元データ取得\n",
    "df_origin = pd.DataFrame(ws_origin.get_all_values()) # 元データ取得\n",
    "df_origin = df_origin.drop(index=df_origin.index[[0,1,2]], columns=df_origin.columns[[0,1,12,13]]) # 不要行列削除\n",
    "\n",
    "# カラム名つける\n",
    "df_origin = df_origin.rename(columns={\n",
    "    2:'店舗名',\n",
    "    3:\"問合せ日\",\n",
    "    4:\"成果識別ID\",\n",
    "    5:\"名前\",\n",
    "    6:\"来店予定日\",\n",
    "    7:\"来店状況\",\n",
    "    8:\"契約状況\",\n",
    "    9:\"契約金額\",\n",
    "    10:\"入金金額\",\n",
    "    11:\"媒体\",\n",
    "    14:\"進捗状況\",\n",
    "    15:\"年齢\"\n",
    "})\n",
    "\n",
    "# 列の並び替え\n",
    "df_origin = df_origin.reindex(columns=[\n",
    "    \"成果識別ID\",\n",
    "    \"名前\",\n",
    "    \"年齢\",\n",
    "    \"店舗名\",\n",
    "    \"媒体\",\n",
    "    \"問合せ日\",\n",
    "    \"来店予定日\",\n",
    "    \"来店状況\",\n",
    "    \"契約状況\",\n",
    "    \"進捗状況\",\n",
    "    \"契約金額\",\n",
    "    \"入金金額\"\n",
    "])\n",
    "\n",
    "# 空欄データを除去\n",
    "df_origin = df_origin[df_origin['成果識別ID'] != \"\"]   # ID空白除去\n",
    "df_origin = df_origin[df_origin['成果識別ID'] != \"ID\"] # 「ID」の文字列除去\n",
    "df_origin = df_origin.sort_values('成果識別ID')        # ID順に並び替え\n",
    "df_origin = df_origin.reset_index(drop=True)           # 番号振り直し\n",
    "\n",
    "print(\"顧客データの整形完了\")"
   ]
  },
  {
   "cell_type": "code",
   "execution_count": 4,
   "metadata": {},
   "outputs": [],
   "source": [
    "########################\n",
    "# \n",
    "# 集客表シートに反映\n",
    "# \n",
    "########################\n",
    "\n",
    "# 分析シートキー取得\n",
    "sheet_key_ana = func.get_ana_key()\n",
    "\n",
    "# 分析シートにアクセス\n",
    "wb_ana = func.connect_gspread(sheet_key_ana)\n",
    "\n",
    "# 集客表シートが存在しなかったら今月のシート追加\n",
    "sheets_ana = wb_ana.worksheets() # 集客表シートのワークシート一覧\n",
    "sheet_name = \"集客表\"\n",
    "if(func.exsit_sheet(sheets_ana, sheet_name)):\n",
    "    wb_ana.add_worksheet(title=sheet_name, rows=1, cols=1)\n",
    "    print(\"集客表シート追加\")\n",
    "\n",
    "# 集客表シートにアクセス\n",
    "ws_syukyaku = wb_ana.worksheet(sheet_name)\n",
    "\n",
    "# データフレームをスプシに反映\n",
    "set_with_dataframe(ws_syukyaku, df_origin)\n",
    "\n",
    "print(\"集客表シートへの反映完了\")"
   ]
  }
 ],
 "metadata": {
  "kernelspec": {
   "display_name": "common",
   "language": "python",
   "name": "common"
  },
  "language_info": {
   "codemirror_mode": {
    "name": "ipython",
    "version": 3
   },
   "file_extension": ".py",
   "mimetype": "text/x-python",
   "name": "python",
   "nbconvert_exporter": "python",
   "pygments_lexer": "ipython3",
   "version": "3.9.7"
  }
 },
 "nbformat": 4,
 "nbformat_minor": 4
}
