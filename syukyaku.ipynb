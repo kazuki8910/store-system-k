{
 "cells": [
  {
   "cell_type": "code",
   "execution_count": 1,
   "metadata": {},
   "outputs": [
    {
     "name": "stdout",
     "output_type": "stream",
     "text": [
      "モジュールのインポート完了\n"
     ]
    }
   ],
   "source": [
    "########################\n",
    "# \n",
    "# モジュール\n",
    "# \n",
    "########################\n",
    "\n",
    "# 一般モジュール\n",
    "import pandas as pd\n",
    "import datetime\n",
    "\n",
    "# スプシ関連\n",
    "from gspread_dataframe import set_with_dataframe\n",
    "\n",
    "# 自作モジュール\n",
    "import func\n",
    "import conf\n",
    "\n",
    "print(\"モジュールのインポート完了\")"
   ]
  },
  {
   "cell_type": "code",
   "execution_count": 2,
   "metadata": {},
   "outputs": [
    {
     "name": "stdout",
     "output_type": "stream",
     "text": [
      "顧客データの整形完了\n"
     ]
    }
   ],
   "source": [
    "########################\n",
    "# \n",
    "# 集客表元データ整形\n",
    "# \n",
    "########################\n",
    "\n",
    "# 集客表元データのシートにアクセス\n",
    "ws_origin = func.connect_gspread(conf.sheet_key_syukyaku_origin) # 基幹シート\n",
    "sheet_origin = ws_origin.worksheet(conf.sheet_name_this_month)\n",
    "\n",
    "# 元データ取得\n",
    "df_origin = pd.DataFrame(sheet_origin.get_all_values()) # 元データ取得\n",
    "df_origin = df_origin.drop(index=df_origin.index[[0,1,2]], columns=df_origin.columns[[0,1,12,13]]) # 不要行列削除\n",
    "\n",
    "# カラム名つける\n",
    "df_origin = df_origin.rename(columns={\n",
    "    2:'店舗名',\n",
    "    3:\"問合せ日\",\n",
    "    4:\"成果識別ID\",\n",
    "    5:\"名前\",\n",
    "    6:\"来店予定日\",\n",
    "    7:\"来店状況\",\n",
    "    8:\"契約状況\",\n",
    "    9:\"契約金額\",\n",
    "    10:\"入金金額\",\n",
    "    11:\"媒体\",\n",
    "    14:\"進捗状況\",\n",
    "    15:\"年齢\"\n",
    "})\n",
    "\n",
    "# 列の並び替え\n",
    "df_origin = df_origin.reindex(columns=[\n",
    "    \"成果識別ID\",\n",
    "    \"名前\",\n",
    "    \"年齢\",\n",
    "    \"店舗名\",\n",
    "    \"媒体\",\n",
    "    \"問合せ日\",\n",
    "    \"来店予定日\",\n",
    "    \"来店状況\",\n",
    "    \"契約状況\",\n",
    "    \"進捗状況\",\n",
    "    \"契約金額\",\n",
    "    \"入金金額\"\n",
    "])\n",
    "\n",
    "df_origin = df_origin[df_origin['成果識別ID'] != \"\"]   # ID空白除去\n",
    "df_origin = df_origin[df_origin['成果識別ID'] != \"ID\"] # 「ID」の文字列除去\n",
    "df_origin = df_origin.sort_values('成果識別ID')        # ID順に並び替え\n",
    "df_origin = df_origin.reset_index(drop=True)           # 番号振り直し\n",
    "\n",
    "print(\"顧客データの整形完了\")"
   ]
  },
  {
   "cell_type": "code",
   "execution_count": 3,
   "metadata": {},
   "outputs": [
    {
     "name": "stdout",
     "output_type": "stream",
     "text": [
      "集客表シートへの反映完了\n"
     ]
    }
   ],
   "source": [
    "########################\n",
    "# \n",
    "# 集客表シートに反映\n",
    "# \n",
    "########################\n",
    "\n",
    "# 集客表シートにアクセス\n",
    "ws_syukyaku = func.connect_gspread(conf.sheet_key_syukyaku) # 集客表シート\n",
    "sheets_syukyaku = ws_syukyaku.worksheets() # 集客表シートのワークシート一覧\n",
    "\n",
    "# シートが存在しなければ追加\n",
    "if(func.exsit_sheet(sheets_syukyaku, conf.sheet_name_this_month)):\n",
    "    ws_syukyaku.add_worksheet(title=conf.sheet_name_this_month, rows=1, cols=1)\n",
    "    print(\"今月のシート追加\")\n",
    "\n",
    "# 今月のシートにアクセス\n",
    "sheet_this_month = ws_syukyaku.worksheet(conf.sheet_name_this_month)\n",
    "\n",
    "# データフレームをスプシに反映\n",
    "set_with_dataframe(sheet_this_month, df_origin)\n",
    "\n",
    "print(\"集客表シートへの反映完了\")"
   ]
  },
  {
   "cell_type": "code",
   "execution_count": null,
   "metadata": {},
   "outputs": [],
   "source": []
  },
  {
   "cell_type": "code",
   "execution_count": null,
   "metadata": {},
   "outputs": [],
   "source": []
  },
  {
   "cell_type": "code",
   "execution_count": null,
   "metadata": {},
   "outputs": [],
   "source": []
  },
  {
   "cell_type": "code",
   "execution_count": null,
   "metadata": {},
   "outputs": [],
   "source": []
  }
 ],
 "metadata": {
  "kernelspec": {
   "display_name": "Python 3",
   "language": "python",
   "name": "python3"
  },
  "language_info": {
   "codemirror_mode": {
    "name": "ipython",
    "version": 3
   },
   "file_extension": ".py",
   "mimetype": "text/x-python",
   "name": "python",
   "nbconvert_exporter": "python",
   "pygments_lexer": "ipython3",
   "version": "3.8.5"
  }
 },
 "nbformat": 4,
 "nbformat_minor": 4
}
