{
 "cells": [
  {
   "cell_type": "code",
   "execution_count": 2,
   "metadata": {},
   "outputs": [],
   "source": [
    "# スプシ作成\n",
    "\n",
    "from pydrive.auth import GoogleAuth\n",
    "from pydrive.drive import GoogleDrive\n",
    "from oauth2client.service_account import ServiceAccountCredentials\n",
    "\n",
    "scope = ['https://spreadsheets.google.com/feeds',\n",
    "         'https://www.googleapis.com/auth/drive']\n",
    "json_keyfile_path = 'config/sheet_api.json'\n",
    "\n",
    "# サービスアカウントキーを読み込む\n",
    "credentials = ServiceAccountCredentials.from_json_keyfile_name(\n",
    "    json_keyfile_path, scope)\n",
    "\n",
    "# pydrive用にOAuth認証を行う\n",
    "gauth = GoogleAuth()\n",
    "gauth.credentials = credentials\n",
    "drive = GoogleDrive(gauth)\n",
    "\n",
    "folder_id = '1rpxNAZqFJQQNnVpkSPzO90UyY8YDOYx-'\n",
    "f = drive.CreateFile({\n",
    "    'title': 'sample_spread',\n",
    "    'mimeType': 'application/vnd.google-apps.spreadsheet',\n",
    "    \"parents\": [{\"id\": folder_id}]})\n",
    "f.Upload()"
   ]
  },
  {
   "cell_type": "code",
   "execution_count": 4,
   "metadata": {},
   "outputs": [
    {
     "name": "stdout",
     "output_type": "stream",
     "text": [
      "1D-AjSsy6YKFMJp1eKOMHiwJdZXdmPN2AEQWGfZ-v26M\n"
     ]
    }
   ],
   "source": [
    "print(f['id'])"
   ]
  },
  {
   "cell_type": "code",
   "execution_count": null,
   "metadata": {},
   "outputs": [],
   "source": []
  },
  {
   "cell_type": "code",
   "execution_count": null,
   "metadata": {},
   "outputs": [],
   "source": []
  },
  {
   "cell_type": "code",
   "execution_count": null,
   "metadata": {},
   "outputs": [],
   "source": []
  }
 ],
 "metadata": {
  "kernelspec": {
   "display_name": "Python 3",
   "language": "python",
   "name": "python3"
  },
  "language_info": {
   "codemirror_mode": {
    "name": "ipython",
    "version": 3
   },
   "file_extension": ".py",
   "mimetype": "text/x-python",
   "name": "python",
   "nbconvert_exporter": "python",
   "pygments_lexer": "ipython3",
   "version": "3.8.5"
  }
 },
 "nbformat": 4,
 "nbformat_minor": 4
}
